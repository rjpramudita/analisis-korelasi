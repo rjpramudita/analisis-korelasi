{
 "cells": [
  {
   "cell_type": "markdown",
   "id": "e2704365",
   "metadata": {
    "_cell_guid": "b1076dfc-b9ad-4769-8c92-a6c4dae69d19",
    "_uuid": "8f2839f25d086af736a60e9eeb907d3b93b6e0e5",
    "papermill": {
     "duration": 0.007411,
     "end_time": "2023-06-29T08:57:28.492196",
     "exception": false,
     "start_time": "2023-06-29T08:57:28.484785",
     "status": "completed"
    },
    "tags": []
   },
   "source": [
    "# Eksplorasi Data - Analisis Korelasi & Heat Map part 2\n",
    "##### Notebook ini membahas Analisis Ekplorasi Data mengunakan analisis korelasi yang divisualisasikan menggunakan heatmap. Dengan menggunakan dataset mtcars, tujuan analisis ini adalah untuk mengetahui hal hal berikut:\n",
    "#####     1. atribut apa saja yang mempengaruhi tenaga mobil (part 1)\n",
    "#####     2. atribut apa saja yang mempengaruhi konsumsi bahan bakar (part 2)"
   ]
  },
  {
   "attachments": {
    "c448fbc1-2c1f-43d1-95a1-32b4855f4c55.png": {
     "image/png": "[encoded data removed]"
    }
   },
   "cell_type": "markdown",
   "id": "2cef9130",
   "metadata": {
    "papermill": {
     "duration": 0.004989,
     "end_time": "2023-06-29T08:57:28.503231",
     "exception": false,
     "start_time": "2023-06-29T08:57:28.498242",
     "status": "completed"
    },
    "tags": []
   },
   "source": [
    "## Deskripsi Data\n",
    "![image.png](attachment:c448fbc1-2c1f-43d1-95a1-32b4855f4c55.png)\n",
    "##### image source: https://www.researchgate.net/figure/mtcars-Dataset-Description_tbl2_306258000"
   ]
  },
  {
   "cell_type": "code",
   "execution_count": 1,
   "id": "b4703e88",
   "metadata": {
    "execution": {
     "iopub.execute_input": "2023-06-29T08:57:28.518225Z",
     "iopub.status.busy": "2023-06-29T08:57:28.517428Z",
     "iopub.status.idle": "2023-06-29T08:57:29.939144Z",
     "shell.execute_reply": "2023-06-29T08:57:29.938102Z"
    },
    "papermill": {
     "duration": 1.432154,
     "end_time": "2023-06-29T08:57:29.941790",
     "exception": false,
     "start_time": "2023-06-29T08:57:28.509636",
     "status": "completed"
    },
    "tags": []
   },
   "outputs": [],
   "source": [
    "import pandas as pd\n",
    "import matplotlib.pyplot as plt\n",
    "import seaborn as sns\n",
    "import numpy as np\n",
    "%matplotlib inline"
   ]
  },
  {
   "cell_type": "code",
   "execution_count": 2,
   "id": "4b8754b2",
   "metadata": {
    "execution": {
     "iopub.execute_input": "2023-06-29T08:57:29.954957Z",
     "iopub.status.busy": "2023-06-29T08:57:29.954536Z",
     "iopub.status.idle": "2023-06-29T08:57:30.011977Z",
     "shell.execute_reply": "2023-06-29T08:57:30.010861Z"
    },
    "papermill": {
     "duration": 0.067264,
     "end_time": "2023-06-29T08:57:30.014562",
     "exception": false,
     "start_time": "2023-06-29T08:57:29.947298",
     "status": "completed"
    },
    "tags": []
   },
   "outputs": [
    {
     "data": {
      "text/html": [
       "<div>\n",
       "<style scoped>\n",
       "    .dataframe tbody tr th:only-of-type {\n",
       "        vertical-align: middle;\n",
       "    }\n",
       "\n",
       "    .dataframe tbody tr th {\n",
       "        vertical-align: top;\n",
       "    }\n",
       "\n",
       "    .dataframe thead th {\n",
       "        text-align: right;\n",
       "    }\n",
       "</style>\n",
       "<table border=\"1\" class=\"dataframe\">\n",
       "  <thead>\n",
       "    <tr style=\"text-align: right;\">\n",
       "      <th></th>\n",
       "      <th>model</th>\n",
       "      <th>mpg</th>\n",
       "      <th>cyl</th>\n",
       "      <th>disp</th>\n",
       "      <th>hp</th>\n",
       "      <th>drat</th>\n",
       "      <th>wt</th>\n",
       "      <th>qsec</th>\n",
       "      <th>vs</th>\n",
       "      <th>am</th>\n",
       "      <th>gear</th>\n",
       "      <th>carb</th>\n",
       "    </tr>\n",
       "  </thead>\n",
       "  <tbody>\n",
       "    <tr>\n",
       "      <th>0</th>\n",
       "      <td>Mazda RX4</td>\n",
       "      <td>21.0</td>\n",
       "      <td>6</td>\n",
       "      <td>160.0</td>\n",
       "      <td>110</td>\n",
       "      <td>3.90</td>\n",
       "      <td>2.620</td>\n",
       "      <td>16.46</td>\n",
       "      <td>0</td>\n",
       "      <td>1</td>\n",
       "      <td>4</td>\n",
       "      <td>4</td>\n",
       "    </tr>\n",
       "    <tr>\n",
       "      <th>1</th>\n",
       "      <td>Mazda RX4 Wag</td>\n",
       "      <td>21.0</td>\n",
       "      <td>6</td>\n",
       "      <td>160.0</td>\n",
       "      <td>110</td>\n",
       "      <td>3.90</td>\n",
       "      <td>2.875</td>\n",
       "      <td>17.02</td>\n",
       "      <td>0</td>\n",
       "      <td>1</td>\n",
       "      <td>4</td>\n",
       "      <td>4</td>\n",
       "    </tr>\n",
       "    <tr>\n",
       "      <th>2</th>\n",
       "      <td>Datsun 710</td>\n",
       "      <td>22.8</td>\n",
       "      <td>4</td>\n",
       "      <td>108.0</td>\n",
       "      <td>93</td>\n",
       "      <td>3.85</td>\n",
       "      <td>2.320</td>\n",
       "      <td>18.61</td>\n",
       "      <td>1</td>\n",
       "      <td>1</td>\n",
       "      <td>4</td>\n",
       "      <td>1</td>\n",
       "    </tr>\n",
       "    <tr>\n",
       "      <th>3</th>\n",
       "      <td>Hornet 4 Drive</td>\n",
       "      <td>21.4</td>\n",
       "      <td>6</td>\n",
       "      <td>258.0</td>\n",
       "      <td>110</td>\n",
       "      <td>3.08</td>\n",
       "      <td>3.215</td>\n",
       "      <td>19.44</td>\n",
       "      <td>1</td>\n",
       "      <td>0</td>\n",
       "      <td>3</td>\n",
       "      <td>1</td>\n",
       "    </tr>\n",
       "    <tr>\n",
       "      <th>4</th>\n",
       "      <td>Hornet Sportabout</td>\n",
       "      <td>18.7</td>\n",
       "      <td>8</td>\n",
       "      <td>360.0</td>\n",
       "      <td>175</td>\n",
       "      <td>3.15</td>\n",
       "      <td>3.440</td>\n",
       "      <td>17.02</td>\n",
       "      <td>0</td>\n",
       "      <td>0</td>\n",
       "      <td>3</td>\n",
       "      <td>2</td>\n",
       "    </tr>\n",
       "  </tbody>\n",
       "</table>\n",
       "</div>"
      ],
      "text/plain": [
       "               model   mpg  cyl   disp   hp  drat     wt   qsec  vs  am  gear  \\\n",
       "0          Mazda RX4  21.0    6  160.0  110  3.90  2.620  16.46   0   1     4   \n",
       "1      Mazda RX4 Wag  21.0    6  160.0  110  3.90  2.875  17.02   0   1     4   \n",
       "2         Datsun 710  22.8    4  108.0   93  3.85  2.320  18.61   1   1     4   \n",
       "3     Hornet 4 Drive  21.4    6  258.0  110  3.08  3.215  19.44   1   0     3   \n",
       "4  Hornet Sportabout  18.7    8  360.0  175  3.15  3.440  17.02   0   0     3   \n",
       "\n",
       "   carb  \n",
       "0     4  \n",
       "1     4  \n",
       "2     1  \n",
       "3     1  \n",
       "4     2  "
      ]
     },
     "execution_count": 2,
     "metadata": {},
     "output_type": "execute_result"
    }
   ],
   "source": [
    "df = pd.read_csv('/kaggle/input/mtcars/mtcars.csv')\n",
    "df.head()"
   ]
  },
  {
   "cell_type": "code",
   "execution_count": 3,
   "id": "f777aad5",
   "metadata": {
    "execution": {
     "iopub.execute_input": "2023-06-29T08:57:30.029646Z",
     "iopub.status.busy": "2023-06-29T08:57:30.027248Z",
     "iopub.status.idle": "2023-06-29T08:57:30.462053Z",
     "shell.execute_reply": "2023-06-29T08:57:30.460966Z"
    },
    "papermill": {
     "duration": 0.44426,
     "end_time": "2023-06-29T08:57:30.464583",
     "exception": false,
     "start_time": "2023-06-29T08:57:30.020323",
     "status": "completed"
    },
    "tags": []
   },
   "outputs": [
    {
     "name": "stderr",
     "output_type": "stream",
     "text": [
      "/tmp/ipykernel_20/683334347.py:3: FutureWarning: The default value of numeric_only in DataFrame.corr is deprecated. In a future version, it will default to False. Select only valid columns or specify the value of numeric_only to silence this warning.\n",
      "  corr = df.corr()\n"
     ]
    },
    {
     "data": {
      "text/plain": [
       "<Axes: >"
      ]
     },
     "execution_count": 3,
     "metadata": {},
     "output_type": "execute_result"
    },
    {
     "data": {
      "image/png": "[encoded data removed]",
      "text/plain": [
       "<Figure size 640x480 with 2 Axes>"
      ]
     },
     "metadata": {},
     "output_type": "display_data"
    }
   ],
   "source": [
    "#Heatmap dapat digunakan untuk melakukan analisa korelasi antar variabel (kolom)\n",
    "#secara keseluruhan pada dataframe\n",
    "corr = df.corr()\n",
    "sns.heatmap(data = corr, square = True, cmap = 'bwr')"
   ]
  },
  {
   "cell_type": "markdown",
   "id": "bddbbf79",
   "metadata": {
    "papermill": {
     "duration": 0.005768,
     "end_time": "2023-06-29T08:57:30.478520",
     "exception": false,
     "start_time": "2023-06-29T08:57:30.472752",
     "status": "completed"
    },
    "tags": []
   },
   "source": [
    "##### TENAGA MESIN (hp)\n",
    "##### heatmap diatas menunjukkan bahwa terdapat beberapa variabel yang berkorelasi positif kuat (gradasi warna merah r > 0) terhadap tenaga mesin (hp) yaitu: cyl, disp, wt, dan carb. Hasil tersebut dapat diinterpretasikan bahwa semakin tinggi tenaga mesin (hp) maka nilai cyl, disp, wt, dan carb akan meningkat\n",
    "\n",
    "##### JARAK TEMPUH/MIL (mpg)\n",
    "##### untuk atribut mpg, saya tertarik untuk melihat variabel berkorelasi negatif kuat (gradasi warna biru r < 0) yang mengindikasikan bahwa terjadi pengurangan jarak tempuh/mil (pemborosan) yaitu cyl, disp, hp,wt, dan carb. Hasil tersebut dapat diindikasikan bahwa semakin tinggi konsumsi bensin/mil maka nilai cyl, disp, hp, wt, dan carb semakin kecil."
   ]
  },
  {
   "cell_type": "markdown",
   "id": "185ed4a2",
   "metadata": {
    "papermill": {
     "duration": 0.005769,
     "end_time": "2023-06-29T08:57:30.490296",
     "exception": false,
     "start_time": "2023-06-29T08:57:30.484527",
     "status": "completed"
    },
    "tags": []
   },
   "source": [
    "## Analisa Korelasi Detail jarak tempuh/gallon (mpg)\n",
    "#### Gambar dibawah menunjukkan visualisasi data yang memiliki korelasi negatif"
   ]
  },
  {
   "cell_type": "code",
   "execution_count": 4,
   "id": "bf859372",
   "metadata": {
    "execution": {
     "iopub.execute_input": "2023-06-29T08:57:30.504269Z",
     "iopub.status.busy": "2023-06-29T08:57:30.503900Z",
     "iopub.status.idle": "2023-06-29T08:57:30.757991Z",
     "shell.execute_reply": "2023-06-29T08:57:30.756655Z"
    },
    "papermill": {
     "duration": 0.263875,
     "end_time": "2023-06-29T08:57:30.760278",
     "exception": false,
     "start_time": "2023-06-29T08:57:30.496403",
     "status": "completed"
    },
    "tags": []
   },
   "outputs": [
    {
     "data": {
      "image/png": "[encoded data removed]",
      "text/plain": [
       "<Figure size 640x480 with 1 Axes>"
      ]
     },
     "metadata": {},
     "output_type": "display_data"
    }
   ],
   "source": [
    "data = df[['mpg','hp']]\n",
    "x = data['mpg']\n",
    "y = data['hp']\n",
    "plt.scatter(x,y)\n",
    "\n",
    "z = np.polyfit(x,y,1)\n",
    "p = np.poly1d(z)\n",
    "plt.plot(x,p(x),'r--')\n",
    "plt.xlabel('Jarak Tempuh/Gallon')\n",
    "plt.ylabel('Tenaga Mesin')\n",
    "\n",
    "plt.show()"
   ]
  },
  {
   "cell_type": "markdown",
   "id": "58c7a7ea",
   "metadata": {
    "papermill": {
     "duration": 0.006129,
     "end_time": "2023-06-29T08:57:30.773244",
     "exception": false,
     "start_time": "2023-06-29T08:57:30.767115",
     "status": "completed"
    },
    "tags": []
   },
   "source": [
    "##### korelasi negatif kuat muncul saat nilai variabel x (Jarak Tempuh/Gallon) semakin besar namun nilai variabel y (Tenaga Mesin) semakin kecil. interaksi kedua variabel tersebut membentuk garis tren yang menurun. Sehingga korelasi negatif dapat di intepretasikan sebagai berikut: \"semakin tinggi jarak tempuh/gallon, semakin lemah tenaga mesin\""
   ]
  },
  {
   "cell_type": "markdown",
   "id": "5a81cd60",
   "metadata": {
    "papermill": {
     "duration": 0.006149,
     "end_time": "2023-06-29T08:57:30.785686",
     "exception": false,
     "start_time": "2023-06-29T08:57:30.779537",
     "status": "completed"
    },
    "tags": []
   },
   "source": [
    "### Analisa Korelasi Detail untuk Jarak Tempuh/Gallon (mpg)\n",
    "#### Tenaga mesin (hp) terhadap jarak tempuh/gallon (mpg)"
   ]
  },
  {
   "cell_type": "code",
   "execution_count": 5,
   "id": "4641d129",
   "metadata": {
    "execution": {
     "iopub.execute_input": "2023-06-29T08:57:30.801030Z",
     "iopub.status.busy": "2023-06-29T08:57:30.799771Z",
     "iopub.status.idle": "2023-06-29T08:57:30.811154Z",
     "shell.execute_reply": "2023-06-29T08:57:30.810072Z"
    },
    "papermill": {
     "duration": 0.021488,
     "end_time": "2023-06-29T08:57:30.813610",
     "exception": false,
     "start_time": "2023-06-29T08:57:30.792122",
     "status": "completed"
    },
    "tags": []
   },
   "outputs": [
    {
     "data": {
      "text/html": [
       "<div>\n",
       "<style scoped>\n",
       "    .dataframe tbody tr th:only-of-type {\n",
       "        vertical-align: middle;\n",
       "    }\n",
       "\n",
       "    .dataframe tbody tr th {\n",
       "        vertical-align: top;\n",
       "    }\n",
       "\n",
       "    .dataframe thead th {\n",
       "        text-align: right;\n",
       "    }\n",
       "</style>\n",
       "<table border=\"1\" class=\"dataframe\">\n",
       "  <thead>\n",
       "    <tr style=\"text-align: right;\">\n",
       "      <th></th>\n",
       "      <th>hp</th>\n",
       "      <th>mpg</th>\n",
       "    </tr>\n",
       "  </thead>\n",
       "  <tbody>\n",
       "    <tr>\n",
       "      <th>hp</th>\n",
       "      <td>1.000000</td>\n",
       "      <td>-0.776168</td>\n",
       "    </tr>\n",
       "    <tr>\n",
       "      <th>mpg</th>\n",
       "      <td>-0.776168</td>\n",
       "      <td>1.000000</td>\n",
       "    </tr>\n",
       "  </tbody>\n",
       "</table>\n",
       "</div>"
      ],
      "text/plain": [
       "           hp       mpg\n",
       "hp   1.000000 -0.776168\n",
       "mpg -0.776168  1.000000"
      ]
     },
     "execution_count": 5,
     "metadata": {},
     "output_type": "execute_result"
    }
   ],
   "source": [
    "df[['hp','mpg']].corr()"
   ]
  },
  {
   "cell_type": "code",
   "execution_count": 6,
   "id": "bb3631bf",
   "metadata": {
    "execution": {
     "iopub.execute_input": "2023-06-29T08:57:30.829286Z",
     "iopub.status.busy": "2023-06-29T08:57:30.828843Z",
     "iopub.status.idle": "2023-06-29T08:57:31.055987Z",
     "shell.execute_reply": "2023-06-29T08:57:31.054958Z"
    },
    "papermill": {
     "duration": 0.237715,
     "end_time": "2023-06-29T08:57:31.058264",
     "exception": false,
     "start_time": "2023-06-29T08:57:30.820549",
     "status": "completed"
    },
    "tags": []
   },
   "outputs": [
    {
     "data": {
      "image/png": "[encoded data removed]",
      "text/plain": [
       "<Figure size 640x480 with 1 Axes>"
      ]
     },
     "metadata": {},
     "output_type": "display_data"
    }
   ],
   "source": [
    "x = df['mpg']\n",
    "y = df['cyl']\n",
    "plt.scatter(x,y)\n",
    "\n",
    "z = np.polyfit(x,y,1)\n",
    "p = np.poly1d(z)\n",
    "plt.plot(x,p(x),'r--')\n",
    "plt.xlabel('Jarak Tempuh/Gallon')\n",
    "plt.ylabel('Jumlah Silinder')\n",
    "\n",
    "plt.show()"
   ]
  },
  {
   "cell_type": "code",
   "execution_count": 7,
   "id": "773a846d",
   "metadata": {
    "execution": {
     "iopub.execute_input": "2023-06-29T08:57:31.074162Z",
     "iopub.status.busy": "2023-06-29T08:57:31.073757Z",
     "iopub.status.idle": "2023-06-29T08:57:31.085077Z",
     "shell.execute_reply": "2023-06-29T08:57:31.084173Z"
    },
    "papermill": {
     "duration": 0.022088,
     "end_time": "2023-06-29T08:57:31.087425",
     "exception": false,
     "start_time": "2023-06-29T08:57:31.065337",
     "status": "completed"
    },
    "tags": []
   },
   "outputs": [
    {
     "data": {
      "text/html": [
       "<div>\n",
       "<style scoped>\n",
       "    .dataframe tbody tr th:only-of-type {\n",
       "        vertical-align: middle;\n",
       "    }\n",
       "\n",
       "    .dataframe tbody tr th {\n",
       "        vertical-align: top;\n",
       "    }\n",
       "\n",
       "    .dataframe thead th {\n",
       "        text-align: right;\n",
       "    }\n",
       "</style>\n",
       "<table border=\"1\" class=\"dataframe\">\n",
       "  <thead>\n",
       "    <tr style=\"text-align: right;\">\n",
       "      <th></th>\n",
       "      <th>cyl</th>\n",
       "      <th>mpg</th>\n",
       "    </tr>\n",
       "  </thead>\n",
       "  <tbody>\n",
       "    <tr>\n",
       "      <th>cyl</th>\n",
       "      <td>1.000000</td>\n",
       "      <td>-0.852162</td>\n",
       "    </tr>\n",
       "    <tr>\n",
       "      <th>mpg</th>\n",
       "      <td>-0.852162</td>\n",
       "      <td>1.000000</td>\n",
       "    </tr>\n",
       "  </tbody>\n",
       "</table>\n",
       "</div>"
      ],
      "text/plain": [
       "          cyl       mpg\n",
       "cyl  1.000000 -0.852162\n",
       "mpg -0.852162  1.000000"
      ]
     },
     "execution_count": 7,
     "metadata": {},
     "output_type": "execute_result"
    }
   ],
   "source": [
    "df[['cyl','mpg']].corr()"
   ]
  },
  {
   "cell_type": "code",
   "execution_count": 8,
   "id": "f5ee1d84",
   "metadata": {
    "execution": {
     "iopub.execute_input": "2023-06-29T08:57:31.103915Z",
     "iopub.status.busy": "2023-06-29T08:57:31.103496Z",
     "iopub.status.idle": "2023-06-29T08:57:31.323744Z",
     "shell.execute_reply": "2023-06-29T08:57:31.322556Z"
    },
    "papermill": {
     "duration": 0.231607,
     "end_time": "2023-06-29T08:57:31.326201",
     "exception": false,
     "start_time": "2023-06-29T08:57:31.094594",
     "status": "completed"
    },
    "tags": []
   },
   "outputs": [
    {
     "data": {
      "image/png": "[encoded data removed]",
      "text/plain": [
       "<Figure size 640x480 with 1 Axes>"
      ]
     },
     "metadata": {},
     "output_type": "display_data"
    }
   ],
   "source": [
    "x = df['mpg']\n",
    "y = df['disp']\n",
    "plt.scatter(x,y)\n",
    "\n",
    "z = np.polyfit(x,y,1)\n",
    "p = np.poly1d(z)\n",
    "plt.plot(x,p(x),'r--')\n",
    "plt.xlabel('Jarak Tempuh/Gallon')\n",
    "plt.ylabel('Displacement')\n",
    "\n",
    "plt.show()"
   ]
  },
  {
   "cell_type": "code",
   "execution_count": 9,
   "id": "590ab58f",
   "metadata": {
    "execution": {
     "iopub.execute_input": "2023-06-29T08:57:31.343776Z",
     "iopub.status.busy": "2023-06-29T08:57:31.342721Z",
     "iopub.status.idle": "2023-06-29T08:57:31.354137Z",
     "shell.execute_reply": "2023-06-29T08:57:31.353011Z"
    },
    "papermill": {
     "duration": 0.022367,
     "end_time": "2023-06-29T08:57:31.356388",
     "exception": false,
     "start_time": "2023-06-29T08:57:31.334021",
     "status": "completed"
    },
    "tags": []
   },
   "outputs": [
    {
     "data": {
      "text/html": [
       "<div>\n",
       "<style scoped>\n",
       "    .dataframe tbody tr th:only-of-type {\n",
       "        vertical-align: middle;\n",
       "    }\n",
       "\n",
       "    .dataframe tbody tr th {\n",
       "        vertical-align: top;\n",
       "    }\n",
       "\n",
       "    .dataframe thead th {\n",
       "        text-align: right;\n",
       "    }\n",
       "</style>\n",
       "<table border=\"1\" class=\"dataframe\">\n",
       "  <thead>\n",
       "    <tr style=\"text-align: right;\">\n",
       "      <th></th>\n",
       "      <th>disp</th>\n",
       "      <th>mpg</th>\n",
       "    </tr>\n",
       "  </thead>\n",
       "  <tbody>\n",
       "    <tr>\n",
       "      <th>disp</th>\n",
       "      <td>1.000000</td>\n",
       "      <td>-0.847551</td>\n",
       "    </tr>\n",
       "    <tr>\n",
       "      <th>mpg</th>\n",
       "      <td>-0.847551</td>\n",
       "      <td>1.000000</td>\n",
       "    </tr>\n",
       "  </tbody>\n",
       "</table>\n",
       "</div>"
      ],
      "text/plain": [
       "          disp       mpg\n",
       "disp  1.000000 -0.847551\n",
       "mpg  -0.847551  1.000000"
      ]
     },
     "execution_count": 9,
     "metadata": {},
     "output_type": "execute_result"
    }
   ],
   "source": [
    "df[['disp','mpg']].corr()"
   ]
  },
  {
   "cell_type": "code",
   "execution_count": 10,
   "id": "81f22188",
   "metadata": {
    "execution": {
     "iopub.execute_input": "2023-06-29T08:57:31.374074Z",
     "iopub.status.busy": "2023-06-29T08:57:31.373417Z",
     "iopub.status.idle": "2023-06-29T08:57:31.592017Z",
     "shell.execute_reply": "2023-06-29T08:57:31.590948Z"
    },
    "papermill": {
     "duration": 0.229978,
     "end_time": "2023-06-29T08:57:31.594265",
     "exception": false,
     "start_time": "2023-06-29T08:57:31.364287",
     "status": "completed"
    },
    "tags": []
   },
   "outputs": [
    {
     "data": {
      "image/png": "[encoded data removed]",
      "text/plain": [
       "<Figure size 640x480 with 1 Axes>"
      ]
     },
     "metadata": {},
     "output_type": "display_data"
    }
   ],
   "source": [
    "x = df['mpg']\n",
    "y = df['wt']\n",
    "plt.scatter(x,y)\n",
    "\n",
    "z = np.polyfit(x,y,1)\n",
    "p = np.poly1d(z)\n",
    "plt.plot(x,p(x),'r--')\n",
    "plt.xlabel('Jarak Tempuh/Gallon')\n",
    "plt.ylabel('Berat Kendaraan')\n",
    "\n",
    "plt.show()"
   ]
  },
  {
   "cell_type": "code",
   "execution_count": 11,
   "id": "edffc730",
   "metadata": {
    "execution": {
     "iopub.execute_input": "2023-06-29T08:57:31.612428Z",
     "iopub.status.busy": "2023-06-29T08:57:31.611788Z",
     "iopub.status.idle": "2023-06-29T08:57:31.623346Z",
     "shell.execute_reply": "2023-06-29T08:57:31.622272Z"
    },
    "papermill": {
     "duration": 0.023279,
     "end_time": "2023-06-29T08:57:31.625565",
     "exception": false,
     "start_time": "2023-06-29T08:57:31.602286",
     "status": "completed"
    },
    "tags": []
   },
   "outputs": [
    {
     "data": {
      "text/html": [
       "<div>\n",
       "<style scoped>\n",
       "    .dataframe tbody tr th:only-of-type {\n",
       "        vertical-align: middle;\n",
       "    }\n",
       "\n",
       "    .dataframe tbody tr th {\n",
       "        vertical-align: top;\n",
       "    }\n",
       "\n",
       "    .dataframe thead th {\n",
       "        text-align: right;\n",
       "    }\n",
       "</style>\n",
       "<table border=\"1\" class=\"dataframe\">\n",
       "  <thead>\n",
       "    <tr style=\"text-align: right;\">\n",
       "      <th></th>\n",
       "      <th>wt</th>\n",
       "      <th>mpg</th>\n",
       "    </tr>\n",
       "  </thead>\n",
       "  <tbody>\n",
       "    <tr>\n",
       "      <th>wt</th>\n",
       "      <td>1.000000</td>\n",
       "      <td>-0.867659</td>\n",
       "    </tr>\n",
       "    <tr>\n",
       "      <th>mpg</th>\n",
       "      <td>-0.867659</td>\n",
       "      <td>1.000000</td>\n",
       "    </tr>\n",
       "  </tbody>\n",
       "</table>\n",
       "</div>"
      ],
      "text/plain": [
       "           wt       mpg\n",
       "wt   1.000000 -0.867659\n",
       "mpg -0.867659  1.000000"
      ]
     },
     "execution_count": 11,
     "metadata": {},
     "output_type": "execute_result"
    }
   ],
   "source": [
    "df[['wt','mpg']].corr()"
   ]
  },
  {
   "cell_type": "code",
   "execution_count": 12,
   "id": "2af39b79",
   "metadata": {
    "execution": {
     "iopub.execute_input": "2023-06-29T08:57:31.643859Z",
     "iopub.status.busy": "2023-06-29T08:57:31.643214Z",
     "iopub.status.idle": "2023-06-29T08:57:31.874956Z",
     "shell.execute_reply": "2023-06-29T08:57:31.873871Z"
    },
    "papermill": {
     "duration": 0.243614,
     "end_time": "2023-06-29T08:57:31.877263",
     "exception": false,
     "start_time": "2023-06-29T08:57:31.633649",
     "status": "completed"
    },
    "tags": []
   },
   "outputs": [
    {
     "data": {
      "image/png": "[encoded data removed]",
      "text/plain": [
       "<Figure size 640x480 with 1 Axes>"
      ]
     },
     "metadata": {},
     "output_type": "display_data"
    }
   ],
   "source": [
    "x = df['mpg']\n",
    "y = df['carb']\n",
    "plt.scatter(x,y)\n",
    "\n",
    "z = np.polyfit(x,y,1)\n",
    "p = np.poly1d(z)\n",
    "plt.plot(x,p(x),'r--')\n",
    "plt.xlabel('Jarak Tempuh/Gallon')\n",
    "plt.ylabel('Jumlah Karburator')\n",
    "\n",
    "plt.show()"
   ]
  },
  {
   "cell_type": "code",
   "execution_count": 13,
   "id": "37746e55",
   "metadata": {
    "execution": {
     "iopub.execute_input": "2023-06-29T08:57:31.897412Z",
     "iopub.status.busy": "2023-06-29T08:57:31.896771Z",
     "iopub.status.idle": "2023-06-29T08:57:31.907170Z",
     "shell.execute_reply": "2023-06-29T08:57:31.906122Z"
    },
    "papermill": {
     "duration": 0.023521,
     "end_time": "2023-06-29T08:57:31.909655",
     "exception": false,
     "start_time": "2023-06-29T08:57:31.886134",
     "status": "completed"
    },
    "tags": []
   },
   "outputs": [
    {
     "data": {
      "text/html": [
       "<div>\n",
       "<style scoped>\n",
       "    .dataframe tbody tr th:only-of-type {\n",
       "        vertical-align: middle;\n",
       "    }\n",
       "\n",
       "    .dataframe tbody tr th {\n",
       "        vertical-align: top;\n",
       "    }\n",
       "\n",
       "    .dataframe thead th {\n",
       "        text-align: right;\n",
       "    }\n",
       "</style>\n",
       "<table border=\"1\" class=\"dataframe\">\n",
       "  <thead>\n",
       "    <tr style=\"text-align: right;\">\n",
       "      <th></th>\n",
       "      <th>carb</th>\n",
       "      <th>mpg</th>\n",
       "    </tr>\n",
       "  </thead>\n",
       "  <tbody>\n",
       "    <tr>\n",
       "      <th>carb</th>\n",
       "      <td>1.000000</td>\n",
       "      <td>-0.550925</td>\n",
       "    </tr>\n",
       "    <tr>\n",
       "      <th>mpg</th>\n",
       "      <td>-0.550925</td>\n",
       "      <td>1.000000</td>\n",
       "    </tr>\n",
       "  </tbody>\n",
       "</table>\n",
       "</div>"
      ],
      "text/plain": [
       "          carb       mpg\n",
       "carb  1.000000 -0.550925\n",
       "mpg  -0.550925  1.000000"
      ]
     },
     "execution_count": 13,
     "metadata": {},
     "output_type": "execute_result"
    }
   ],
   "source": [
    "df[['carb','mpg']].corr()"
   ]
  },
  {
   "cell_type": "markdown",
   "id": "7ab4306f",
   "metadata": {
    "papermill": {
     "duration": 0.008583,
     "end_time": "2023-06-29T08:57:31.927305",
     "exception": false,
     "start_time": "2023-06-29T08:57:31.918722",
     "status": "completed"
    },
    "tags": []
   },
   "source": [
    "##### Hasil analisa diatas menunjukkan bahwa terdapat tiga variabel yang berkorelasi negatif sangat kuat (-0.80 < r < -0.99) terhadap jarak tempuh/gallon (mpg) yaitu jumlah silinder (cyl), displacement (disp), dan berat kendaraan (wt). Sedangkan tenaga mesin memiliki korelasi negatif kuat (-0.60 < r < -0.79) terhadap jarak tempuh/gallon (mpg). Jumlah karburator memiliki korelasi negatif sedang (-0.40 < r < -0.59) terhadap jarak tempuh/gallon\n",
    "\n",
    "#### SPECIAL NOTE\n",
    "##### kekuatan korelasi divisualisasikan dengan seberapa jauh/dekat titik-titik data tersebar pada scatter diagram. Semakin \"rapat/padat\" sebaran titik data,maka data tersebut dapat memiliki korelasi yang kuat (perlu dibuktikan dengan analisa korelasi). Bandingkan scatter diagram carb vs mpg dengan wt vs mpg. Titik-titik data terlihat lebih tersebar pada carb vs mpg,sedangkan wt vs mpg terlihat lebih rapat."
   ]
  },
  {
   "cell_type": "markdown",
   "id": "d5974df9",
   "metadata": {
    "papermill": {
     "duration": 0.009701,
     "end_time": "2023-06-29T08:57:31.945936",
     "exception": false,
     "start_time": "2023-06-29T08:57:31.936235",
     "status": "completed"
    },
    "tags": []
   },
   "source": [
    "## KESIMPULAN\n",
    "##### Kasus ini berfokus pada eksplorasi data untuk menemukan variabel - variabel yang berpengaruh terhadap jarak tempuh/gallon (mpg) menggunakan koefisien korelasi. Lebih lanjut, kasus ini menganalisa variabel-variabel yang dapat mengurangi jarak tempuh/gallon (menyebabkan konsumsi bahan bakar lebih tinggi) yang ditunjukkan dengan variabel berkorelasi negatif. Analisa saat ini menunjukkan bahwa terdapat empat variabel yang memiliki korelasi negatif terhadap jarak tempuh/gallon (mpg) diurutkan dari korelasi tertinggi - terendah, yaitu : (1) berat kendaraan (wt); (2) jumlah silinder (cyl); (3) Displacement (disp); (4) tenaga mesin (hp); dan (5) jumlah karburator (carb)."
   ]
  },
  {
   "cell_type": "markdown",
   "id": "5eecca32",
   "metadata": {
    "papermill": {
     "duration": 0.008367,
     "end_time": "2023-06-29T08:57:31.963097",
     "exception": false,
     "start_time": "2023-06-29T08:57:31.954730",
     "status": "completed"
    },
    "tags": []
   },
   "source": [
    "#### Langkah Selanjutnya\n",
    "##### 1. membangun model prediksi berdasarkan variabel-variabel yang ada"
   ]
  }
 ],
 "metadata": {
  "kernelspec": {
   "display_name": "Python 3",
   "language": "python",
   "name": "python3"
  },
  "language_info": {
   "codemirror_mode": {
    "name": "ipython",
    "version": 3
   },
   "file_extension": ".py",
   "mimetype": "text/x-python",
   "name": "python",
   "nbconvert_exporter": "python",
   "pygments_lexer": "ipython3",
   "version": "3.10.10"
  },
  "papermill": {
   "default_parameters": {},
   "duration": 14.438022,
   "end_time": "2023-06-29T08:57:32.896714",
   "environment_variables": {},
   "exception": null,
   "input_path": "__notebook__.ipynb",
   "output_path": "__notebook__.ipynb",
   "parameters": {},
   "start_time": "2023-06-29T08:57:18.458692",
   "version": "2.4.0"
  }
 },
 "nbformat": 4,
 "nbformat_minor": 5
}
